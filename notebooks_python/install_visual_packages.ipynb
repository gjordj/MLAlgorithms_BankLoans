{
 "cells": [
  {
   "cell_type": "markdown",
   "metadata": {},
   "source": [
    "## Día 1"
   ]
  },
  {
   "cell_type": "code",
   "execution_count": 1,
   "metadata": {},
   "outputs": [
    {
     "name": "stdout",
     "output_type": "stream",
     "text": [
      "Collecting folium\n",
      "  Downloading https://files.pythonhosted.org/packages/fd/a0/ccb3094026649cda4acd55bf2c3822bb8c277eb11446d13d384e5be35257/folium-0.10.1-py2.py3-none-any.whl (91kB)\n",
      "Collecting branca>=0.3.0 (from folium)\n",
      "  Downloading https://files.pythonhosted.org/packages/63/36/1c93318e9653f4e414a2e0c3b98fc898b4970e939afeedeee6075dd3b703/branca-0.3.1-py3-none-any.whl\n",
      "Requirement already satisfied: jinja2>=2.9 in c:\\users\\chema\\anaconda3\\lib\\site-packages (from folium) (2.10.1)\n",
      "Requirement already satisfied: numpy in c:\\users\\chema\\anaconda3\\lib\\site-packages (from folium) (1.16.4)\n",
      "Requirement already satisfied: requests in c:\\users\\chema\\anaconda3\\lib\\site-packages (from folium) (2.22.0)\n",
      "Requirement already satisfied: six in c:\\users\\chema\\anaconda3\\lib\\site-packages (from branca>=0.3.0->folium) (1.12.0)\n",
      "Requirement already satisfied: MarkupSafe>=0.23 in c:\\users\\chema\\anaconda3\\lib\\site-packages (from jinja2>=2.9->folium) (1.1.1)\n",
      "Requirement already satisfied: certifi>=2017.4.17 in c:\\users\\chema\\anaconda3\\lib\\site-packages (from requests->folium) (2019.11.28)\n",
      "Requirement already satisfied: chardet<3.1.0,>=3.0.2 in c:\\users\\chema\\anaconda3\\lib\\site-packages (from requests->folium) (3.0.4)\n",
      "Requirement already satisfied: idna<2.9,>=2.5 in c:\\users\\chema\\anaconda3\\lib\\site-packages (from requests->folium) (2.8)\n",
      "Requirement already satisfied: urllib3!=1.25.0,!=1.25.1,<1.26,>=1.21.1 in c:\\users\\chema\\anaconda3\\lib\\site-packages (from requests->folium) (1.24.2)\n",
      "Installing collected packages: branca, folium\n",
      "Successfully installed branca-0.3.1 folium-0.10.1\n"
     ]
    }
   ],
   "source": [
    "!pip install folium"
   ]
  },
  {
   "cell_type": "code",
   "execution_count": 2,
   "metadata": {},
   "outputs": [
    {
     "name": "stdout",
     "output_type": "stream",
     "text": [
      "Collecting package metadata (current_repodata.json): ...working... done\n",
      "Solving environment: ...working... done\n",
      "\n",
      "## Package Plan ##\n",
      "\n",
      "  environment location: C:\\Users\\chema\\Anaconda3\n",
      "\n",
      "  added / updated specs:\n",
      "    - plotly\n",
      "    - seaborn\n",
      "\n",
      "\n",
      "The following packages will be downloaded:\n",
      "\n",
      "    package                    |            build\n",
      "    ---------------------------|-----------------\n",
      "    conda-4.8.0                |           py37_0         2.8 MB\n",
      "    plotly-4.3.0               |             py_0         4.1 MB\n",
      "    retrying-1.3.3             |           py37_2          16 KB\n",
      "    seaborn-0.9.0              |     pyh91ea838_1         164 KB\n",
      "    ------------------------------------------------------------\n",
      "                                           Total:         7.1 MB\n",
      "\n",
      "The following NEW packages will be INSTALLED:\n",
      "\n",
      "  plotly             pkgs/main/noarch::plotly-4.3.0-py_0\n",
      "  retrying           pkgs/main/win-64::retrying-1.3.3-py37_2\n",
      "\n",
      "The following packages will be UPDATED:\n",
      "\n",
      "  conda                                       4.7.12-py37_0 --> 4.8.0-py37_0\n",
      "  seaborn            pkgs/main/win-64::seaborn-0.9.0-py37_0 --> pkgs/main/noarch::seaborn-0.9.0-pyh91ea838_1\n",
      "\n",
      "\n",
      "\n",
      "Downloading and Extracting Packages\n",
      "\n",
      "plotly-4.3.0         | 4.1 MB    |            |   0% \n",
      "plotly-4.3.0         | 4.1 MB    |            |   0% \n",
      "plotly-4.3.0         | 4.1 MB    | ##3        |  23% \n",
      "plotly-4.3.0         | 4.1 MB    | ###2       |  32% \n",
      "plotly-4.3.0         | 4.1 MB    | #####9     |  59% \n",
      "plotly-4.3.0         | 4.1 MB    | ########   |  81% \n",
      "plotly-4.3.0         | 4.1 MB    | #########6 |  96% \n",
      "plotly-4.3.0         | 4.1 MB    | ########## | 100% \n",
      "\n",
      "seaborn-0.9.0        | 164 KB    |            |   0% \n",
      "seaborn-0.9.0        | 164 KB    | ########## | 100% \n",
      "\n",
      "conda-4.8.0          | 2.8 MB    |            |   0% \n",
      "conda-4.8.0          | 2.8 MB    | ##5        |  25% \n",
      "conda-4.8.0          | 2.8 MB    | #####9     |  59% \n",
      "conda-4.8.0          | 2.8 MB    | ########2  |  83% \n",
      "conda-4.8.0          | 2.8 MB    | ########## | 100% \n",
      "\n",
      "retrying-1.3.3       | 16 KB     |            |   0% \n",
      "retrying-1.3.3       | 16 KB     | ########## | 100% \n",
      "Preparing transaction: ...working... done\n",
      "Verifying transaction: ...working... done\n",
      "Executing transaction: ...working... done\n"
     ]
    }
   ],
   "source": [
    "!conda install -y seaborn plotly"
   ]
  },
  {
   "cell_type": "markdown",
   "metadata": {},
   "source": [
    "## Día 2"
   ]
  },
  {
   "cell_type": "code",
   "execution_count": 3,
   "metadata": {},
   "outputs": [
    {
     "name": "stdout",
     "output_type": "stream",
     "text": [
      "Collecting package metadata (current_repodata.json): ...working... done\n",
      "Solving environment: ...working... done\n",
      "\n",
      "## Package Plan ##\n",
      "\n",
      "  environment location: C:\\Users\\chema\\Anaconda3\n",
      "\n",
      "  added / updated specs:\n",
      "    - datashader\n",
      "    - tensorboard\n",
      "    - tensorflow\n",
      "\n",
      "\n",
      "The following packages will be downloaded:\n",
      "\n",
      "    package                    |            build\n",
      "    ---------------------------|-----------------\n",
      "    colorcet-2.0.2             |             py_0         1.5 MB\n",
      "    datashader-0.8.0           |             py_0        14.0 MB\n",
      "    datashape-0.5.4            |           py37_1         101 KB\n",
      "    param-1.9.2                |             py_0          63 KB\n",
      "    pyct-0.4.6                 |           py37_0          24 KB\n",
      "    xarray-0.14.0              |             py_0         446 KB\n",
      "    ------------------------------------------------------------\n",
      "                                           Total:        16.1 MB\n",
      "\n",
      "The following NEW packages will be INSTALLED:\n",
      "\n",
      "  colorcet           pkgs/main/noarch::colorcet-2.0.2-py_0\n",
      "  datashader         pkgs/main/noarch::datashader-0.8.0-py_0\n",
      "  datashape          pkgs/main/win-64::datashape-0.5.4-py37_1\n",
      "  param              pkgs/main/noarch::param-1.9.2-py_0\n",
      "  pyct               pkgs/main/win-64::pyct-0.4.6-py37_0\n",
      "  xarray             pkgs/main/noarch::xarray-0.14.0-py_0\n",
      "\n",
      "\n",
      "\n",
      "Downloading and Extracting Packages\n",
      "\n",
      "xarray-0.14.0        | 446 KB    |            |   0% \n",
      "xarray-0.14.0        | 446 KB    | 3          |   4% \n",
      "xarray-0.14.0        | 446 KB    | ########## | 100% \n",
      "\n",
      "param-1.9.2          | 63 KB     |            |   0% \n",
      "param-1.9.2          | 63 KB     | ########## | 100% \n",
      "\n",
      "datashader-0.8.0     | 14.0 MB   |            |   0% \n",
      "datashader-0.8.0     | 14.0 MB   | 2          |   3% \n",
      "datashader-0.8.0     | 14.0 MB   | 4          |   4% \n",
      "datashader-0.8.0     | 14.0 MB   | 5          |   5% \n",
      "datashader-0.8.0     | 14.0 MB   | 8          |   9% \n",
      "datashader-0.8.0     | 14.0 MB   | #2         |  12% \n",
      "datashader-0.8.0     | 14.0 MB   | #7         |  17% \n",
      "datashader-0.8.0     | 14.0 MB   | ##         |  20% \n",
      "datashader-0.8.0     | 14.0 MB   | ##2        |  23% \n",
      "datashader-0.8.0     | 14.0 MB   | ##5        |  25% \n",
      "datashader-0.8.0     | 14.0 MB   | ##7        |  28% \n",
      "datashader-0.8.0     | 14.0 MB   | ###1       |  31% \n",
      "datashader-0.8.0     | 14.0 MB   | ###6       |  36% \n",
      "datashader-0.8.0     | 14.0 MB   | ####2      |  43% \n",
      "datashader-0.8.0     | 14.0 MB   | ####8      |  48% \n",
      "datashader-0.8.0     | 14.0 MB   | #####3     |  53% \n",
      "datashader-0.8.0     | 14.0 MB   | #####7     |  58% \n",
      "datashader-0.8.0     | 14.0 MB   | ######3    |  64% \n",
      "datashader-0.8.0     | 14.0 MB   | ######8    |  69% \n",
      "datashader-0.8.0     | 14.0 MB   | #######3   |  73% \n",
      "datashader-0.8.0     | 14.0 MB   | #######7   |  78% \n",
      "datashader-0.8.0     | 14.0 MB   | ########2  |  82% \n",
      "datashader-0.8.0     | 14.0 MB   | ########6  |  87% \n",
      "datashader-0.8.0     | 14.0 MB   | #########1 |  92% \n",
      "datashader-0.8.0     | 14.0 MB   | #########6 |  97% \n",
      "datashader-0.8.0     | 14.0 MB   | ########## | 100% \n",
      "\n",
      "datashape-0.5.4      | 101 KB    |            |   0% \n",
      "datashape-0.5.4      | 101 KB    | #########4 |  95% \n",
      "datashape-0.5.4      | 101 KB    | ########## | 100% \n",
      "\n",
      "pyct-0.4.6           | 24 KB     |            |   0% \n",
      "pyct-0.4.6           | 24 KB     | ########## | 100% \n",
      "\n",
      "colorcet-2.0.2       | 1.5 MB    |            |   0% \n",
      "colorcet-2.0.2       | 1.5 MB    | ###9       |  40% \n",
      "colorcet-2.0.2       | 1.5 MB    | #########2 |  92% \n",
      "colorcet-2.0.2       | 1.5 MB    | ########## | 100% \n",
      "Preparing transaction: ...working... done\n",
      "Verifying transaction: ...working... done\n",
      "Executing transaction: ...working... done\n"
     ]
    }
   ],
   "source": [
    "!conda install -y tensorflow tensorboard datashader"
   ]
  },
  {
   "cell_type": "code",
   "execution_count": 4,
   "metadata": {},
   "outputs": [
    {
     "name": "stdout",
     "output_type": "stream",
     "text": [
      "Collecting shap\n",
      "  Downloading https://files.pythonhosted.org/packages/27/20/1101ac6c1c952aca8e2a7a22810fc707c31b155fe183dd338bfe86741f2c/shap-0.32.1-cp37-cp37m-win_amd64.whl (292kB)\n",
      "Requirement already satisfied: tqdm>4.25.0 in c:\\users\\chema\\anaconda3\\lib\\site-packages (from shap) (4.32.1)\n",
      "Requirement already satisfied: scipy in c:\\users\\chema\\anaconda3\\lib\\site-packages (from shap) (1.2.1)\n",
      "Requirement already satisfied: pandas in c:\\users\\chema\\anaconda3\\lib\\site-packages (from shap) (0.24.2)\n",
      "Requirement already satisfied: scikit-learn in c:\\users\\chema\\anaconda3\\lib\\site-packages (from shap) (0.22)\n",
      "Requirement already satisfied: numpy in c:\\users\\chema\\anaconda3\\lib\\site-packages (from shap) (1.16.4)\n",
      "Requirement already satisfied: pytz>=2011k in c:\\users\\chema\\anaconda3\\lib\\site-packages (from pandas->shap) (2019.1)\n",
      "Requirement already satisfied: python-dateutil>=2.5.0 in c:\\users\\chema\\anaconda3\\lib\\site-packages (from pandas->shap) (2.8.0)\n",
      "Requirement already satisfied: joblib>=0.11 in c:\\users\\chema\\anaconda3\\lib\\site-packages (from scikit-learn->shap) (0.13.2)\n",
      "Requirement already satisfied: six>=1.5 in c:\\users\\chema\\anaconda3\\lib\\site-packages (from python-dateutil>=2.5.0->pandas->shap) (1.12.0)\n",
      "Installing collected packages: shap\n",
      "Successfully installed shap-0.32.1\n"
     ]
    }
   ],
   "source": [
    "!pip install shap"
   ]
  },
  {
   "cell_type": "code",
   "execution_count": 6,
   "metadata": {},
   "outputs": [
    {
     "name": "stdout",
     "output_type": "stream",
     "text": [
      "Collecting panel\n",
      "  Downloading https://files.pythonhosted.org/packages/61/8d/6bad8d9e2eb0e9e3dc98a92140ae7f7e324b5f38fcd78682908e7056e7fc/panel-0.7.0-py2.py3-none-any.whl (800kB)\n",
      "Collecting bokeh>=1.4.0 (from panel)\n",
      "  Downloading https://files.pythonhosted.org/packages/de/70/fdd4b186d8570a737372487cc5547aac885a1270626e3ebf03db1808e4ed/bokeh-1.4.0.tar.gz (32.4MB)\n",
      "Collecting pyviz-comms>=0.7.2 (from panel)\n",
      "  Downloading https://files.pythonhosted.org/packages/9d/66/77220e2da76b65da0e6daaa30091062f569935deb3ae8f4de03533496800/pyviz_comms-0.7.2-py2.py3-none-any.whl\n",
      "Requirement already satisfied: param>=1.9.0 in c:\\users\\chema\\anaconda3\\lib\\site-packages (from panel) (1.9.2)\n",
      "Requirement already satisfied: markdown in c:\\users\\chema\\anaconda3\\lib\\site-packages (from panel) (3.1.1)\n",
      "Requirement already satisfied: pyct>=0.4.4 in c:\\users\\chema\\anaconda3\\lib\\site-packages (from panel) (0.4.6)\n",
      "Requirement already satisfied: six>=1.5.2 in c:\\users\\chema\\anaconda3\\lib\\site-packages (from bokeh>=1.4.0->panel) (1.12.0)\n",
      "Requirement already satisfied: PyYAML>=3.10 in c:\\users\\chema\\anaconda3\\lib\\site-packages (from bokeh>=1.4.0->panel) (5.1.1)\n",
      "Requirement already satisfied: python-dateutil>=2.1 in c:\\users\\chema\\anaconda3\\lib\\site-packages (from bokeh>=1.4.0->panel) (2.8.0)\n",
      "Requirement already satisfied: Jinja2>=2.7 in c:\\users\\chema\\anaconda3\\lib\\site-packages (from bokeh>=1.4.0->panel) (2.10.1)\n",
      "Requirement already satisfied: numpy>=1.7.1 in c:\\users\\chema\\anaconda3\\lib\\site-packages (from bokeh>=1.4.0->panel) (1.16.4)\n",
      "Requirement already satisfied: pillow>=4.0 in c:\\users\\chema\\anaconda3\\lib\\site-packages (from bokeh>=1.4.0->panel) (6.1.0)\n",
      "Requirement already satisfied: packaging>=16.8 in c:\\users\\chema\\anaconda3\\lib\\site-packages (from bokeh>=1.4.0->panel) (19.0)\n",
      "Requirement already satisfied: tornado>=4.3 in c:\\users\\chema\\anaconda3\\lib\\site-packages (from bokeh>=1.4.0->panel) (6.0.3)\n",
      "Requirement already satisfied: setuptools>=36 in c:\\users\\chema\\anaconda3\\lib\\site-packages (from markdown->panel) (41.0.1)\n",
      "Requirement already satisfied: MarkupSafe>=0.23 in c:\\users\\chema\\anaconda3\\lib\\site-packages (from Jinja2>=2.7->bokeh>=1.4.0->panel) (1.1.1)\n",
      "Requirement already satisfied: pyparsing>=2.0.2 in c:\\users\\chema\\anaconda3\\lib\\site-packages (from packaging>=16.8->bokeh>=1.4.0->panel) (2.4.0)\n",
      "Building wheels for collected packages: bokeh\n",
      "  Building wheel for bokeh (setup.py): started\n",
      "  Building wheel for bokeh (setup.py): still running...\n",
      "  Building wheel for bokeh (setup.py): finished with status 'done'\n",
      "  Stored in directory: C:\\Users\\chema\\AppData\\Local\\pip\\Cache\\wheels\\fb\\f8\\47\\09700d9a19cbcbf0b7a3130690b75c0d6ff80fbda0b1774c7c\n",
      "Successfully built bokeh\n",
      "Installing collected packages: bokeh, pyviz-comms, panel\n",
      "  Found existing installation: bokeh 1.2.0\n",
      "    Uninstalling bokeh-1.2.0:\n",
      "      Successfully uninstalled bokeh-1.2.0\n",
      "Successfully installed bokeh-1.4.0 panel-0.7.0 pyviz-comms-0.7.2\n"
     ]
    }
   ],
   "source": [
    "!pip install panel"
   ]
  },
  {
   "cell_type": "code",
   "execution_count": null,
   "metadata": {},
   "outputs": [],
   "source": []
  }
 ],
 "metadata": {
  "kernelspec": {
   "display_name": "Python 3",
   "language": "python",
   "name": "python3"
  },
  "language_info": {
   "codemirror_mode": {
    "name": "ipython",
    "version": 3
   },
   "file_extension": ".py",
   "mimetype": "text/x-python",
   "name": "python",
   "nbconvert_exporter": "python",
   "pygments_lexer": "ipython3",
   "version": "3.7.3"
  }
 },
 "nbformat": 4,
 "nbformat_minor": 2
}
